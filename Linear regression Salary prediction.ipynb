{
 "cells": [
  {
   "cell_type": "code",
   "execution_count": 1,
   "metadata": {},
   "outputs": [],
   "source": [
    "# Usual imports\n",
    "import pandas as pd\n",
    "import numpy as np\n",
    "import matplotlib.pyplot as plt\n",
    "import seaborn as sns"
   ]
  },
  {
   "cell_type": "code",
   "execution_count": 3,
   "metadata": {},
   "outputs": [],
   "source": [
    "df = pd.read_csv(\"accountant_salary.csv\")"
   ]
  },
  {
   "cell_type": "code",
   "execution_count": 4,
   "metadata": {},
   "outputs": [
    {
     "data": {
      "text/html": [
       "<div>\n",
       "<style scoped>\n",
       "    .dataframe tbody tr th:only-of-type {\n",
       "        vertical-align: middle;\n",
       "    }\n",
       "\n",
       "    .dataframe tbody tr th {\n",
       "        vertical-align: top;\n",
       "    }\n",
       "\n",
       "    .dataframe thead th {\n",
       "        text-align: right;\n",
       "    }\n",
       "</style>\n",
       "<table border=\"1\" class=\"dataframe\">\n",
       "  <thead>\n",
       "    <tr style=\"text-align: right;\">\n",
       "      <th></th>\n",
       "      <th>degree</th>\n",
       "      <th>masters</th>\n",
       "      <th>professional_membership</th>\n",
       "      <th>years_experience</th>\n",
       "      <th>audit_experience</th>\n",
       "      <th>IT_skill_rate</th>\n",
       "      <th>Size_of_the_company_worked</th>\n",
       "      <th>salary_per_year</th>\n",
       "    </tr>\n",
       "  </thead>\n",
       "  <tbody>\n",
       "    <tr>\n",
       "      <th>0</th>\n",
       "      <td>1</td>\n",
       "      <td>1</td>\n",
       "      <td>0</td>\n",
       "      <td>4</td>\n",
       "      <td>3</td>\n",
       "      <td>9.6</td>\n",
       "      <td>4</td>\n",
       "      <td>89661</td>\n",
       "    </tr>\n",
       "    <tr>\n",
       "      <th>1</th>\n",
       "      <td>1</td>\n",
       "      <td>1</td>\n",
       "      <td>1</td>\n",
       "      <td>9</td>\n",
       "      <td>4</td>\n",
       "      <td>3.6</td>\n",
       "      <td>3</td>\n",
       "      <td>105336</td>\n",
       "    </tr>\n",
       "    <tr>\n",
       "      <th>2</th>\n",
       "      <td>1</td>\n",
       "      <td>0</td>\n",
       "      <td>0</td>\n",
       "      <td>13</td>\n",
       "      <td>2</td>\n",
       "      <td>6.9</td>\n",
       "      <td>2</td>\n",
       "      <td>91402</td>\n",
       "    </tr>\n",
       "    <tr>\n",
       "      <th>3</th>\n",
       "      <td>1</td>\n",
       "      <td>1</td>\n",
       "      <td>1</td>\n",
       "      <td>2</td>\n",
       "      <td>3</td>\n",
       "      <td>8.9</td>\n",
       "      <td>1</td>\n",
       "      <td>96137</td>\n",
       "    </tr>\n",
       "    <tr>\n",
       "      <th>4</th>\n",
       "      <td>1</td>\n",
       "      <td>2</td>\n",
       "      <td>1</td>\n",
       "      <td>13</td>\n",
       "      <td>5</td>\n",
       "      <td>7.5</td>\n",
       "      <td>4</td>\n",
       "      <td>113364</td>\n",
       "    </tr>\n",
       "  </tbody>\n",
       "</table>\n",
       "</div>"
      ],
      "text/plain": [
       "   degree  masters  professional_membership  years_experience  \\\n",
       "0       1        1                        0                 4   \n",
       "1       1        1                        1                 9   \n",
       "2       1        0                        0                13   \n",
       "3       1        1                        1                 2   \n",
       "4       1        2                        1                13   \n",
       "\n",
       "   audit_experience  IT_skill_rate  Size_of_the_company_worked  \\\n",
       "0                 3            9.6                           4   \n",
       "1                 4            3.6                           3   \n",
       "2                 2            6.9                           2   \n",
       "3                 3            8.9                           1   \n",
       "4                 5            7.5                           4   \n",
       "\n",
       "   salary_per_year  \n",
       "0            89661  \n",
       "1           105336  \n",
       "2            91402  \n",
       "3            96137  \n",
       "4           113364  "
      ]
     },
     "execution_count": 4,
     "metadata": {},
     "output_type": "execute_result"
    }
   ],
   "source": [
    "df.head()"
   ]
  },
  {
   "cell_type": "code",
   "execution_count": 6,
   "metadata": {},
   "outputs": [],
   "source": [
    "# df.head(10)"
   ]
  },
  {
   "cell_type": "code",
   "execution_count": 7,
   "metadata": {},
   "outputs": [
    {
     "name": "stdout",
     "output_type": "stream",
     "text": [
      "<class 'pandas.core.frame.DataFrame'>\n",
      "RangeIndex: 1013 entries, 0 to 1012\n",
      "Data columns (total 8 columns):\n",
      " #   Column                      Non-Null Count  Dtype  \n",
      "---  ------                      --------------  -----  \n",
      " 0   degree                      1013 non-null   int64  \n",
      " 1   masters                     1013 non-null   int64  \n",
      " 2   professional_membership     1013 non-null   int64  \n",
      " 3   years_experience            1013 non-null   int64  \n",
      " 4   audit_experience            1013 non-null   int64  \n",
      " 5   IT_skill_rate               1013 non-null   float64\n",
      " 6   Size_of_the_company_worked  1013 non-null   int64  \n",
      " 7   salary_per_year             1013 non-null   int64  \n",
      "dtypes: float64(1), int64(7)\n",
      "memory usage: 63.4 KB\n"
     ]
    }
   ],
   "source": [
    "df.info()"
   ]
  },
  {
   "cell_type": "code",
   "execution_count": 8,
   "metadata": {},
   "outputs": [
    {
     "data": {
      "text/html": [
       "<div>\n",
       "<style scoped>\n",
       "    .dataframe tbody tr th:only-of-type {\n",
       "        vertical-align: middle;\n",
       "    }\n",
       "\n",
       "    .dataframe tbody tr th {\n",
       "        vertical-align: top;\n",
       "    }\n",
       "\n",
       "    .dataframe thead th {\n",
       "        text-align: right;\n",
       "    }\n",
       "</style>\n",
       "<table border=\"1\" class=\"dataframe\">\n",
       "  <thead>\n",
       "    <tr style=\"text-align: right;\">\n",
       "      <th></th>\n",
       "      <th>degree</th>\n",
       "      <th>masters</th>\n",
       "      <th>professional_membership</th>\n",
       "      <th>years_experience</th>\n",
       "      <th>audit_experience</th>\n",
       "      <th>IT_skill_rate</th>\n",
       "      <th>Size_of_the_company_worked</th>\n",
       "      <th>salary_per_year</th>\n",
       "    </tr>\n",
       "  </thead>\n",
       "  <tbody>\n",
       "    <tr>\n",
       "      <th>count</th>\n",
       "      <td>1013.000000</td>\n",
       "      <td>1013.000000</td>\n",
       "      <td>1013.000000</td>\n",
       "      <td>1013.000000</td>\n",
       "      <td>1013.000000</td>\n",
       "      <td>1013.000000</td>\n",
       "      <td>1013.000000</td>\n",
       "      <td>1013.000000</td>\n",
       "    </tr>\n",
       "    <tr>\n",
       "      <th>mean</th>\n",
       "      <td>0.991115</td>\n",
       "      <td>0.992103</td>\n",
       "      <td>0.514314</td>\n",
       "      <td>8.599210</td>\n",
       "      <td>2.508391</td>\n",
       "      <td>5.532280</td>\n",
       "      <td>2.451135</td>\n",
       "      <td>94359.632774</td>\n",
       "    </tr>\n",
       "    <tr>\n",
       "      <th>std</th>\n",
       "      <td>0.093884</td>\n",
       "      <td>0.816055</td>\n",
       "      <td>0.500042</td>\n",
       "      <td>3.950944</td>\n",
       "      <td>1.730675</td>\n",
       "      <td>2.604028</td>\n",
       "      <td>1.128516</td>\n",
       "      <td>8526.685211</td>\n",
       "    </tr>\n",
       "    <tr>\n",
       "      <th>min</th>\n",
       "      <td>0.000000</td>\n",
       "      <td>0.000000</td>\n",
       "      <td>0.000000</td>\n",
       "      <td>2.000000</td>\n",
       "      <td>0.000000</td>\n",
       "      <td>1.000000</td>\n",
       "      <td>1.000000</td>\n",
       "      <td>69373.000000</td>\n",
       "    </tr>\n",
       "    <tr>\n",
       "      <th>25%</th>\n",
       "      <td>1.000000</td>\n",
       "      <td>0.000000</td>\n",
       "      <td>0.000000</td>\n",
       "      <td>5.000000</td>\n",
       "      <td>1.000000</td>\n",
       "      <td>3.300000</td>\n",
       "      <td>1.000000</td>\n",
       "      <td>88544.000000</td>\n",
       "    </tr>\n",
       "    <tr>\n",
       "      <th>50%</th>\n",
       "      <td>1.000000</td>\n",
       "      <td>1.000000</td>\n",
       "      <td>1.000000</td>\n",
       "      <td>9.000000</td>\n",
       "      <td>3.000000</td>\n",
       "      <td>5.500000</td>\n",
       "      <td>2.000000</td>\n",
       "      <td>93870.000000</td>\n",
       "    </tr>\n",
       "    <tr>\n",
       "      <th>75%</th>\n",
       "      <td>1.000000</td>\n",
       "      <td>2.000000</td>\n",
       "      <td>1.000000</td>\n",
       "      <td>12.000000</td>\n",
       "      <td>4.000000</td>\n",
       "      <td>7.900000</td>\n",
       "      <td>3.000000</td>\n",
       "      <td>100299.000000</td>\n",
       "    </tr>\n",
       "    <tr>\n",
       "      <th>max</th>\n",
       "      <td>1.000000</td>\n",
       "      <td>2.000000</td>\n",
       "      <td>1.000000</td>\n",
       "      <td>15.000000</td>\n",
       "      <td>5.000000</td>\n",
       "      <td>9.900000</td>\n",
       "      <td>4.000000</td>\n",
       "      <td>119708.000000</td>\n",
       "    </tr>\n",
       "  </tbody>\n",
       "</table>\n",
       "</div>"
      ],
      "text/plain": [
       "            degree      masters  professional_membership  years_experience  \\\n",
       "count  1013.000000  1013.000000              1013.000000       1013.000000   \n",
       "mean      0.991115     0.992103                 0.514314          8.599210   \n",
       "std       0.093884     0.816055                 0.500042          3.950944   \n",
       "min       0.000000     0.000000                 0.000000          2.000000   \n",
       "25%       1.000000     0.000000                 0.000000          5.000000   \n",
       "50%       1.000000     1.000000                 1.000000          9.000000   \n",
       "75%       1.000000     2.000000                 1.000000         12.000000   \n",
       "max       1.000000     2.000000                 1.000000         15.000000   \n",
       "\n",
       "       audit_experience  IT_skill_rate  Size_of_the_company_worked  \\\n",
       "count       1013.000000    1013.000000                 1013.000000   \n",
       "mean           2.508391       5.532280                    2.451135   \n",
       "std            1.730675       2.604028                    1.128516   \n",
       "min            0.000000       1.000000                    1.000000   \n",
       "25%            1.000000       3.300000                    1.000000   \n",
       "50%            3.000000       5.500000                    2.000000   \n",
       "75%            4.000000       7.900000                    3.000000   \n",
       "max            5.000000       9.900000                    4.000000   \n",
       "\n",
       "       salary_per_year  \n",
       "count      1013.000000  \n",
       "mean      94359.632774  \n",
       "std        8526.685211  \n",
       "min       69373.000000  \n",
       "25%       88544.000000  \n",
       "50%       93870.000000  \n",
       "75%      100299.000000  \n",
       "max      119708.000000  "
      ]
     },
     "execution_count": 8,
     "metadata": {},
     "output_type": "execute_result"
    }
   ],
   "source": [
    "df.describe()"
   ]
  },
  {
   "cell_type": "code",
   "execution_count": 9,
   "metadata": {},
   "outputs": [
    {
     "data": {
      "text/html": [
       "<div>\n",
       "<style scoped>\n",
       "    .dataframe tbody tr th:only-of-type {\n",
       "        vertical-align: middle;\n",
       "    }\n",
       "\n",
       "    .dataframe tbody tr th {\n",
       "        vertical-align: top;\n",
       "    }\n",
       "\n",
       "    .dataframe thead th {\n",
       "        text-align: right;\n",
       "    }\n",
       "</style>\n",
       "<table border=\"1\" class=\"dataframe\">\n",
       "  <thead>\n",
       "    <tr style=\"text-align: right;\">\n",
       "      <th></th>\n",
       "      <th>count</th>\n",
       "      <th>mean</th>\n",
       "      <th>std</th>\n",
       "      <th>min</th>\n",
       "      <th>25%</th>\n",
       "      <th>50%</th>\n",
       "      <th>75%</th>\n",
       "      <th>max</th>\n",
       "    </tr>\n",
       "  </thead>\n",
       "  <tbody>\n",
       "    <tr>\n",
       "      <th>degree</th>\n",
       "      <td>1013.0</td>\n",
       "      <td>0.991115</td>\n",
       "      <td>0.093884</td>\n",
       "      <td>0.0</td>\n",
       "      <td>1.0</td>\n",
       "      <td>1.0</td>\n",
       "      <td>1.0</td>\n",
       "      <td>1.0</td>\n",
       "    </tr>\n",
       "    <tr>\n",
       "      <th>masters</th>\n",
       "      <td>1013.0</td>\n",
       "      <td>0.992103</td>\n",
       "      <td>0.816055</td>\n",
       "      <td>0.0</td>\n",
       "      <td>0.0</td>\n",
       "      <td>1.0</td>\n",
       "      <td>2.0</td>\n",
       "      <td>2.0</td>\n",
       "    </tr>\n",
       "    <tr>\n",
       "      <th>professional_membership</th>\n",
       "      <td>1013.0</td>\n",
       "      <td>0.514314</td>\n",
       "      <td>0.500042</td>\n",
       "      <td>0.0</td>\n",
       "      <td>0.0</td>\n",
       "      <td>1.0</td>\n",
       "      <td>1.0</td>\n",
       "      <td>1.0</td>\n",
       "    </tr>\n",
       "    <tr>\n",
       "      <th>years_experience</th>\n",
       "      <td>1013.0</td>\n",
       "      <td>8.599210</td>\n",
       "      <td>3.950944</td>\n",
       "      <td>2.0</td>\n",
       "      <td>5.0</td>\n",
       "      <td>9.0</td>\n",
       "      <td>12.0</td>\n",
       "      <td>15.0</td>\n",
       "    </tr>\n",
       "    <tr>\n",
       "      <th>audit_experience</th>\n",
       "      <td>1013.0</td>\n",
       "      <td>2.508391</td>\n",
       "      <td>1.730675</td>\n",
       "      <td>0.0</td>\n",
       "      <td>1.0</td>\n",
       "      <td>3.0</td>\n",
       "      <td>4.0</td>\n",
       "      <td>5.0</td>\n",
       "    </tr>\n",
       "    <tr>\n",
       "      <th>IT_skill_rate</th>\n",
       "      <td>1013.0</td>\n",
       "      <td>5.532280</td>\n",
       "      <td>2.604028</td>\n",
       "      <td>1.0</td>\n",
       "      <td>3.3</td>\n",
       "      <td>5.5</td>\n",
       "      <td>7.9</td>\n",
       "      <td>9.9</td>\n",
       "    </tr>\n",
       "    <tr>\n",
       "      <th>Size_of_the_company_worked</th>\n",
       "      <td>1013.0</td>\n",
       "      <td>2.451135</td>\n",
       "      <td>1.128516</td>\n",
       "      <td>1.0</td>\n",
       "      <td>1.0</td>\n",
       "      <td>2.0</td>\n",
       "      <td>3.0</td>\n",
       "      <td>4.0</td>\n",
       "    </tr>\n",
       "    <tr>\n",
       "      <th>salary_per_year</th>\n",
       "      <td>1013.0</td>\n",
       "      <td>94359.632774</td>\n",
       "      <td>8526.685211</td>\n",
       "      <td>69373.0</td>\n",
       "      <td>88544.0</td>\n",
       "      <td>93870.0</td>\n",
       "      <td>100299.0</td>\n",
       "      <td>119708.0</td>\n",
       "    </tr>\n",
       "  </tbody>\n",
       "</table>\n",
       "</div>"
      ],
      "text/plain": [
       "                             count          mean          std      min  \\\n",
       "degree                      1013.0      0.991115     0.093884      0.0   \n",
       "masters                     1013.0      0.992103     0.816055      0.0   \n",
       "professional_membership     1013.0      0.514314     0.500042      0.0   \n",
       "years_experience            1013.0      8.599210     3.950944      2.0   \n",
       "audit_experience            1013.0      2.508391     1.730675      0.0   \n",
       "IT_skill_rate               1013.0      5.532280     2.604028      1.0   \n",
       "Size_of_the_company_worked  1013.0      2.451135     1.128516      1.0   \n",
       "salary_per_year             1013.0  94359.632774  8526.685211  69373.0   \n",
       "\n",
       "                                25%      50%       75%       max  \n",
       "degree                          1.0      1.0       1.0       1.0  \n",
       "masters                         0.0      1.0       2.0       2.0  \n",
       "professional_membership         0.0      1.0       1.0       1.0  \n",
       "years_experience                5.0      9.0      12.0      15.0  \n",
       "audit_experience                1.0      3.0       4.0       5.0  \n",
       "IT_skill_rate                   3.3      5.5       7.9       9.9  \n",
       "Size_of_the_company_worked      1.0      2.0       3.0       4.0  \n",
       "salary_per_year             88544.0  93870.0  100299.0  119708.0  "
      ]
     },
     "execution_count": 9,
     "metadata": {},
     "output_type": "execute_result"
    }
   ],
   "source": [
    "df.describe().transpose()"
   ]
  },
  {
   "cell_type": "code",
   "execution_count": 10,
   "metadata": {},
   "outputs": [
    {
     "data": {
      "text/plain": [
       "0        89661\n",
       "1       105336\n",
       "2        91402\n",
       "3        96137\n",
       "4       113364\n",
       "         ...  \n",
       "1008     96438\n",
       "1009     85523\n",
       "1010    100476\n",
       "1011    107083\n",
       "1012     82310\n",
       "Name: salary_per_year, Length: 1013, dtype: int64"
      ]
     },
     "execution_count": 10,
     "metadata": {},
     "output_type": "execute_result"
    }
   ],
   "source": [
    "df[\"salary_per_year\"]"
   ]
  },
  {
   "cell_type": "code",
   "execution_count": 11,
   "metadata": {},
   "outputs": [
    {
     "data": {
      "text/plain": [
       "119708"
      ]
     },
     "execution_count": 11,
     "metadata": {},
     "output_type": "execute_result"
    }
   ],
   "source": [
    "max(df[\"salary_per_year\"])"
   ]
  },
  {
   "cell_type": "code",
   "execution_count": 12,
   "metadata": {},
   "outputs": [
    {
     "data": {
      "text/plain": [
       "69373"
      ]
     },
     "execution_count": 12,
     "metadata": {},
     "output_type": "execute_result"
    }
   ],
   "source": [
    "min(df[\"salary_per_year\"])"
   ]
  },
  {
   "cell_type": "code",
   "execution_count": 15,
   "metadata": {},
   "outputs": [
    {
     "data": {
      "text/plain": [
       "0       False\n",
       "1       False\n",
       "2       False\n",
       "3       False\n",
       "4       False\n",
       "        ...  \n",
       "1008    False\n",
       "1009    False\n",
       "1010    False\n",
       "1011    False\n",
       "1012    False\n",
       "Name: salary_per_year, Length: 1013, dtype: bool"
      ]
     },
     "execution_count": 15,
     "metadata": {},
     "output_type": "execute_result"
    }
   ],
   "source": [
    "df[\"salary_per_year\"] > 115000"
   ]
  },
  {
   "cell_type": "code",
   "execution_count": 16,
   "metadata": {},
   "outputs": [
    {
     "data": {
      "text/html": [
       "<div>\n",
       "<style scoped>\n",
       "    .dataframe tbody tr th:only-of-type {\n",
       "        vertical-align: middle;\n",
       "    }\n",
       "\n",
       "    .dataframe tbody tr th {\n",
       "        vertical-align: top;\n",
       "    }\n",
       "\n",
       "    .dataframe thead th {\n",
       "        text-align: right;\n",
       "    }\n",
       "</style>\n",
       "<table border=\"1\" class=\"dataframe\">\n",
       "  <thead>\n",
       "    <tr style=\"text-align: right;\">\n",
       "      <th></th>\n",
       "      <th>degree</th>\n",
       "      <th>masters</th>\n",
       "      <th>professional_membership</th>\n",
       "      <th>years_experience</th>\n",
       "      <th>audit_experience</th>\n",
       "      <th>IT_skill_rate</th>\n",
       "      <th>Size_of_the_company_worked</th>\n",
       "      <th>salary_per_year</th>\n",
       "    </tr>\n",
       "  </thead>\n",
       "  <tbody>\n",
       "    <tr>\n",
       "      <th>97</th>\n",
       "      <td>1</td>\n",
       "      <td>2</td>\n",
       "      <td>1</td>\n",
       "      <td>14</td>\n",
       "      <td>5</td>\n",
       "      <td>5.6</td>\n",
       "      <td>3</td>\n",
       "      <td>115944</td>\n",
       "    </tr>\n",
       "    <tr>\n",
       "      <th>218</th>\n",
       "      <td>1</td>\n",
       "      <td>2</td>\n",
       "      <td>1</td>\n",
       "      <td>15</td>\n",
       "      <td>4</td>\n",
       "      <td>4.4</td>\n",
       "      <td>2</td>\n",
       "      <td>115506</td>\n",
       "    </tr>\n",
       "    <tr>\n",
       "      <th>447</th>\n",
       "      <td>1</td>\n",
       "      <td>2</td>\n",
       "      <td>1</td>\n",
       "      <td>14</td>\n",
       "      <td>4</td>\n",
       "      <td>7.3</td>\n",
       "      <td>3</td>\n",
       "      <td>116815</td>\n",
       "    </tr>\n",
       "    <tr>\n",
       "      <th>636</th>\n",
       "      <td>1</td>\n",
       "      <td>2</td>\n",
       "      <td>1</td>\n",
       "      <td>15</td>\n",
       "      <td>4</td>\n",
       "      <td>7.5</td>\n",
       "      <td>2</td>\n",
       "      <td>119708</td>\n",
       "    </tr>\n",
       "    <tr>\n",
       "      <th>749</th>\n",
       "      <td>1</td>\n",
       "      <td>0</td>\n",
       "      <td>1</td>\n",
       "      <td>15</td>\n",
       "      <td>5</td>\n",
       "      <td>8.4</td>\n",
       "      <td>1</td>\n",
       "      <td>116087</td>\n",
       "    </tr>\n",
       "    <tr>\n",
       "      <th>878</th>\n",
       "      <td>1</td>\n",
       "      <td>1</td>\n",
       "      <td>1</td>\n",
       "      <td>14</td>\n",
       "      <td>5</td>\n",
       "      <td>8.3</td>\n",
       "      <td>2</td>\n",
       "      <td>118072</td>\n",
       "    </tr>\n",
       "  </tbody>\n",
       "</table>\n",
       "</div>"
      ],
      "text/plain": [
       "     degree  masters  professional_membership  years_experience  \\\n",
       "97        1        2                        1                14   \n",
       "218       1        2                        1                15   \n",
       "447       1        2                        1                14   \n",
       "636       1        2                        1                15   \n",
       "749       1        0                        1                15   \n",
       "878       1        1                        1                14   \n",
       "\n",
       "     audit_experience  IT_skill_rate  Size_of_the_company_worked  \\\n",
       "97                  5            5.6                           3   \n",
       "218                 4            4.4                           2   \n",
       "447                 4            7.3                           3   \n",
       "636                 4            7.5                           2   \n",
       "749                 5            8.4                           1   \n",
       "878                 5            8.3                           2   \n",
       "\n",
       "     salary_per_year  \n",
       "97            115944  \n",
       "218           115506  \n",
       "447           116815  \n",
       "636           119708  \n",
       "749           116087  \n",
       "878           118072  "
      ]
     },
     "execution_count": 16,
     "metadata": {},
     "output_type": "execute_result"
    }
   ],
   "source": [
    "df[df[\"salary_per_year\"] > 115000]"
   ]
  },
  {
   "cell_type": "code",
   "execution_count": 17,
   "metadata": {},
   "outputs": [
    {
     "data": {
      "text/plain": [
       "<matplotlib.axes._subplots.AxesSubplot at 0x24b68555d30>"
      ]
     },
     "execution_count": 17,
     "metadata": {},
     "output_type": "execute_result"
    },
    {
     "data": {
      "image/png": "[encoded data removed]",
      "text/plain": [
       "<Figure size 432x288 with 1 Axes>"
      ]
     },
     "metadata": {
      "needs_background": "light"
     },
     "output_type": "display_data"
    }
   ],
   "source": [
    "sns.distplot(df[\"salary_per_year\"])"
   ]
  },
  {
   "cell_type": "code",
   "execution_count": 18,
   "metadata": {},
   "outputs": [
    {
     "data": {
      "text/html": [
       "<div>\n",
       "<style scoped>\n",
       "    .dataframe tbody tr th:only-of-type {\n",
       "        vertical-align: middle;\n",
       "    }\n",
       "\n",
       "    .dataframe tbody tr th {\n",
       "        vertical-align: top;\n",
       "    }\n",
       "\n",
       "    .dataframe thead th {\n",
       "        text-align: right;\n",
       "    }\n",
       "</style>\n",
       "<table border=\"1\" class=\"dataframe\">\n",
       "  <thead>\n",
       "    <tr style=\"text-align: right;\">\n",
       "      <th></th>\n",
       "      <th>degree</th>\n",
       "      <th>masters</th>\n",
       "      <th>professional_membership</th>\n",
       "      <th>years_experience</th>\n",
       "      <th>audit_experience</th>\n",
       "      <th>IT_skill_rate</th>\n",
       "      <th>Size_of_the_company_worked</th>\n",
       "      <th>salary_per_year</th>\n",
       "    </tr>\n",
       "  </thead>\n",
       "  <tbody>\n",
       "    <tr>\n",
       "      <th>degree</th>\n",
       "      <td>1.000000</td>\n",
       "      <td>-0.000917</td>\n",
       "      <td>-0.049910</td>\n",
       "      <td>0.019694</td>\n",
       "      <td>0.009582</td>\n",
       "      <td>0.037955</td>\n",
       "      <td>0.056521</td>\n",
       "      <td>0.059452</td>\n",
       "    </tr>\n",
       "    <tr>\n",
       "      <th>masters</th>\n",
       "      <td>-0.000917</td>\n",
       "      <td>1.000000</td>\n",
       "      <td>-0.060261</td>\n",
       "      <td>0.041311</td>\n",
       "      <td>-0.039833</td>\n",
       "      <td>-0.023037</td>\n",
       "      <td>0.031770</td>\n",
       "      <td>0.188059</td>\n",
       "    </tr>\n",
       "    <tr>\n",
       "      <th>professional_membership</th>\n",
       "      <td>-0.049910</td>\n",
       "      <td>-0.060261</td>\n",
       "      <td>1.000000</td>\n",
       "      <td>-0.022102</td>\n",
       "      <td>0.013848</td>\n",
       "      <td>-0.022400</td>\n",
       "      <td>-0.061360</td>\n",
       "      <td>0.550464</td>\n",
       "    </tr>\n",
       "    <tr>\n",
       "      <th>years_experience</th>\n",
       "      <td>0.019694</td>\n",
       "      <td>0.041311</td>\n",
       "      <td>-0.022102</td>\n",
       "      <td>1.000000</td>\n",
       "      <td>-0.001964</td>\n",
       "      <td>0.004937</td>\n",
       "      <td>-0.046505</td>\n",
       "      <td>0.539229</td>\n",
       "    </tr>\n",
       "    <tr>\n",
       "      <th>audit_experience</th>\n",
       "      <td>0.009582</td>\n",
       "      <td>-0.039833</td>\n",
       "      <td>0.013848</td>\n",
       "      <td>-0.001964</td>\n",
       "      <td>1.000000</td>\n",
       "      <td>-0.052321</td>\n",
       "      <td>-0.024960</td>\n",
       "      <td>0.376497</td>\n",
       "    </tr>\n",
       "    <tr>\n",
       "      <th>IT_skill_rate</th>\n",
       "      <td>0.037955</td>\n",
       "      <td>-0.023037</td>\n",
       "      <td>-0.022400</td>\n",
       "      <td>0.004937</td>\n",
       "      <td>-0.052321</td>\n",
       "      <td>1.000000</td>\n",
       "      <td>-0.007045</td>\n",
       "      <td>0.185843</td>\n",
       "    </tr>\n",
       "    <tr>\n",
       "      <th>Size_of_the_company_worked</th>\n",
       "      <td>0.056521</td>\n",
       "      <td>0.031770</td>\n",
       "      <td>-0.061360</td>\n",
       "      <td>-0.046505</td>\n",
       "      <td>-0.024960</td>\n",
       "      <td>-0.007045</td>\n",
       "      <td>1.000000</td>\n",
       "      <td>0.029152</td>\n",
       "    </tr>\n",
       "    <tr>\n",
       "      <th>salary_per_year</th>\n",
       "      <td>0.059452</td>\n",
       "      <td>0.188059</td>\n",
       "      <td>0.550464</td>\n",
       "      <td>0.539229</td>\n",
       "      <td>0.376497</td>\n",
       "      <td>0.185843</td>\n",
       "      <td>0.029152</td>\n",
       "      <td>1.000000</td>\n",
       "    </tr>\n",
       "  </tbody>\n",
       "</table>\n",
       "</div>"
      ],
      "text/plain": [
       "                              degree   masters  professional_membership  \\\n",
       "degree                      1.000000 -0.000917                -0.049910   \n",
       "masters                    -0.000917  1.000000                -0.060261   \n",
       "professional_membership    -0.049910 -0.060261                 1.000000   \n",
       "years_experience            0.019694  0.041311                -0.022102   \n",
       "audit_experience            0.009582 -0.039833                 0.013848   \n",
       "IT_skill_rate               0.037955 -0.023037                -0.022400   \n",
       "Size_of_the_company_worked  0.056521  0.031770                -0.061360   \n",
       "salary_per_year             0.059452  0.188059                 0.550464   \n",
       "\n",
       "                            years_experience  audit_experience  IT_skill_rate  \\\n",
       "degree                              0.019694          0.009582       0.037955   \n",
       "masters                             0.041311         -0.039833      -0.023037   \n",
       "professional_membership            -0.022102          0.013848      -0.022400   \n",
       "years_experience                    1.000000         -0.001964       0.004937   \n",
       "audit_experience                   -0.001964          1.000000      -0.052321   \n",
       "IT_skill_rate                       0.004937         -0.052321       1.000000   \n",
       "Size_of_the_company_worked         -0.046505         -0.024960      -0.007045   \n",
       "salary_per_year                     0.539229          0.376497       0.185843   \n",
       "\n",
       "                            Size_of_the_company_worked  salary_per_year  \n",
       "degree                                        0.056521         0.059452  \n",
       "masters                                       0.031770         0.188059  \n",
       "professional_membership                      -0.061360         0.550464  \n",
       "years_experience                             -0.046505         0.539229  \n",
       "audit_experience                             -0.024960         0.376497  \n",
       "IT_skill_rate                                -0.007045         0.185843  \n",
       "Size_of_the_company_worked                    1.000000         0.029152  \n",
       "salary_per_year                               0.029152         1.000000  "
      ]
     },
     "execution_count": 18,
     "metadata": {},
     "output_type": "execute_result"
    }
   ],
   "source": [
    "df.corr()"
   ]
  },
  {
   "cell_type": "code",
   "execution_count": 21,
   "metadata": {},
   "outputs": [
    {
     "data": {
      "text/plain": [
       "<matplotlib.axes._subplots.AxesSubplot at 0x24b692ca9a0>"
      ]
     },
     "execution_count": 21,
     "metadata": {},
     "output_type": "execute_result"
    },
    {
     "data": {
      "image/png": "[encoded data removed]",
      "text/plain": [
       "<Figure size 720x432 with 2 Axes>"
      ]
     },
     "metadata": {
      "needs_background": "light"
     },
     "output_type": "display_data"
    }
   ],
   "source": [
    "plt.figure(figsize=(10,6))\n",
    "sns.heatmap(df.corr(),annot=True)"
   ]
  },
  {
   "cell_type": "code",
   "execution_count": 22,
   "metadata": {},
   "outputs": [
    {
     "data": {
      "text/plain": [
       "Index(['degree', 'masters', 'professional_membership', 'years_experience',\n",
       "       'audit_experience', 'IT_skill_rate', 'Size_of_the_company_worked',\n",
       "       'salary_per_year'],\n",
       "      dtype='object')"
      ]
     },
     "execution_count": 22,
     "metadata": {},
     "output_type": "execute_result"
    }
   ],
   "source": [
    "df.columns"
   ]
  },
  {
   "cell_type": "markdown",
   "metadata": {},
   "source": [
    "Split Data"
   ]
  },
  {
   "cell_type": "code",
   "execution_count": 23,
   "metadata": {},
   "outputs": [],
   "source": [
    "X = df.drop(\"salary_per_year\", axis=1)"
   ]
  },
  {
   "cell_type": "code",
   "execution_count": 25,
   "metadata": {},
   "outputs": [
    {
     "data": {
      "text/html": [
       "<div>\n",
       "<style scoped>\n",
       "    .dataframe tbody tr th:only-of-type {\n",
       "        vertical-align: middle;\n",
       "    }\n",
       "\n",
       "    .dataframe tbody tr th {\n",
       "        vertical-align: top;\n",
       "    }\n",
       "\n",
       "    .dataframe thead th {\n",
       "        text-align: right;\n",
       "    }\n",
       "</style>\n",
       "<table border=\"1\" class=\"dataframe\">\n",
       "  <thead>\n",
       "    <tr style=\"text-align: right;\">\n",
       "      <th></th>\n",
       "      <th>degree</th>\n",
       "      <th>masters</th>\n",
       "      <th>professional_membership</th>\n",
       "      <th>years_experience</th>\n",
       "      <th>audit_experience</th>\n",
       "      <th>IT_skill_rate</th>\n",
       "      <th>Size_of_the_company_worked</th>\n",
       "    </tr>\n",
       "  </thead>\n",
       "  <tbody>\n",
       "    <tr>\n",
       "      <th>0</th>\n",
       "      <td>1</td>\n",
       "      <td>1</td>\n",
       "      <td>0</td>\n",
       "      <td>4</td>\n",
       "      <td>3</td>\n",
       "      <td>9.6</td>\n",
       "      <td>4</td>\n",
       "    </tr>\n",
       "    <tr>\n",
       "      <th>1</th>\n",
       "      <td>1</td>\n",
       "      <td>1</td>\n",
       "      <td>1</td>\n",
       "      <td>9</td>\n",
       "      <td>4</td>\n",
       "      <td>3.6</td>\n",
       "      <td>3</td>\n",
       "    </tr>\n",
       "    <tr>\n",
       "      <th>2</th>\n",
       "      <td>1</td>\n",
       "      <td>0</td>\n",
       "      <td>0</td>\n",
       "      <td>13</td>\n",
       "      <td>2</td>\n",
       "      <td>6.9</td>\n",
       "      <td>2</td>\n",
       "    </tr>\n",
       "    <tr>\n",
       "      <th>3</th>\n",
       "      <td>1</td>\n",
       "      <td>1</td>\n",
       "      <td>1</td>\n",
       "      <td>2</td>\n",
       "      <td>3</td>\n",
       "      <td>8.9</td>\n",
       "      <td>1</td>\n",
       "    </tr>\n",
       "    <tr>\n",
       "      <th>4</th>\n",
       "      <td>1</td>\n",
       "      <td>2</td>\n",
       "      <td>1</td>\n",
       "      <td>13</td>\n",
       "      <td>5</td>\n",
       "      <td>7.5</td>\n",
       "      <td>4</td>\n",
       "    </tr>\n",
       "  </tbody>\n",
       "</table>\n",
       "</div>"
      ],
      "text/plain": [
       "   degree  masters  professional_membership  years_experience  \\\n",
       "0       1        1                        0                 4   \n",
       "1       1        1                        1                 9   \n",
       "2       1        0                        0                13   \n",
       "3       1        1                        1                 2   \n",
       "4       1        2                        1                13   \n",
       "\n",
       "   audit_experience  IT_skill_rate  Size_of_the_company_worked  \n",
       "0                 3            9.6                           4  \n",
       "1                 4            3.6                           3  \n",
       "2                 2            6.9                           2  \n",
       "3                 3            8.9                           1  \n",
       "4                 5            7.5                           4  "
      ]
     },
     "execution_count": 25,
     "metadata": {},
     "output_type": "execute_result"
    }
   ],
   "source": [
    "X.head()"
   ]
  },
  {
   "cell_type": "code",
   "execution_count": 26,
   "metadata": {},
   "outputs": [],
   "source": [
    "y = df[\"salary_per_year\"]"
   ]
  },
  {
   "cell_type": "code",
   "execution_count": 28,
   "metadata": {},
   "outputs": [
    {
     "data": {
      "text/plain": [
       "0     89661\n",
       "1    105336\n",
       "2     91402\n",
       "3     96137\n",
       "4    113364\n",
       "Name: salary_per_year, dtype: int64"
      ]
     },
     "execution_count": 28,
     "metadata": {},
     "output_type": "execute_result"
    }
   ],
   "source": [
    "y.head()"
   ]
  },
  {
   "cell_type": "code",
   "execution_count": 29,
   "metadata": {},
   "outputs": [],
   "source": [
    "from sklearn.model_selection import train_test_split"
   ]
  },
  {
   "cell_type": "code",
   "execution_count": 30,
   "metadata": {},
   "outputs": [],
   "source": [
    "X_train, X_test, y_train, y_test = train_test_split(X, y, test_size=0.33, random_state=42)"
   ]
  },
  {
   "cell_type": "code",
   "execution_count": 31,
   "metadata": {},
   "outputs": [
    {
     "data": {
      "text/plain": [
       "1013"
      ]
     },
     "execution_count": 31,
     "metadata": {},
     "output_type": "execute_result"
    }
   ],
   "source": [
    "len(df)"
   ]
  },
  {
   "cell_type": "code",
   "execution_count": 32,
   "metadata": {},
   "outputs": [
    {
     "data": {
      "text/plain": [
       "(678, 678)"
      ]
     },
     "execution_count": 32,
     "metadata": {},
     "output_type": "execute_result"
    }
   ],
   "source": [
    "len(X_train), len(y_train)"
   ]
  },
  {
   "cell_type": "code",
   "execution_count": 33,
   "metadata": {},
   "outputs": [
    {
     "data": {
      "text/plain": [
       "(335, 335)"
      ]
     },
     "execution_count": 33,
     "metadata": {},
     "output_type": "execute_result"
    }
   ],
   "source": [
    "len(X_test), len(y_test)"
   ]
  },
  {
   "cell_type": "markdown",
   "metadata": {},
   "source": [
    "Create model and Predict"
   ]
  },
  {
   "cell_type": "code",
   "execution_count": 34,
   "metadata": {},
   "outputs": [],
   "source": [
    "from sklearn.linear_model import LinearRegression"
   ]
  },
  {
   "cell_type": "code",
   "execution_count": 35,
   "metadata": {},
   "outputs": [],
   "source": [
    "model = LinearRegression()"
   ]
  },
  {
   "cell_type": "code",
   "execution_count": 36,
   "metadata": {},
   "outputs": [
    {
     "data": {
      "text/plain": [
       "LinearRegression()"
      ]
     },
     "execution_count": 36,
     "metadata": {},
     "output_type": "execute_result"
    }
   ],
   "source": [
    "model.fit(X_train, y_train)"
   ]
  },
  {
   "cell_type": "code",
   "execution_count": 37,
   "metadata": {},
   "outputs": [],
   "source": [
    "prediction = model.predict(X_test)"
   ]
  },
  {
   "cell_type": "markdown",
   "metadata": {},
   "source": [
    "Evaluate the Model Performance"
   ]
  },
  {
   "cell_type": "code",
   "execution_count": 38,
   "metadata": {},
   "outputs": [
    {
     "data": {
      "text/plain": [
       "array([ 97624.82166637,  90888.64024244, 100550.96548128,  95001.54802934,\n",
       "        95716.26965652,  88043.67294003,  98048.34689682,  99388.30213952,\n",
       "        99131.01562773,  95648.0930036 , 103030.63978834, 104875.81512026,\n",
       "        98224.0140496 ,  94127.00582185,  88388.3772683 , 105708.3719143 ,\n",
       "        95641.828923  ,  97218.18198915,  97829.40578788,  95465.52429452,\n",
       "        96429.30048465,  96063.24447103,  82585.92084436, 107159.21579014,\n",
       "        99898.924843  ,  90922.78686994,  97962.93212172,  80972.35686033,\n",
       "        92083.90250521,  99136.28966368,  97563.04577348,  83927.14698791,\n",
       "        91154.77221564,  95972.52427384,  98326.94476735,  89273.50146118,\n",
       "        94051.28059618,  90247.7124242 ,  99192.43490111,  86874.81696687,\n",
       "        85854.40932666,  71293.81898064, 101130.25644863,  93414.95693724,\n",
       "        87464.91307088,  98108.42659235, 108464.33715414,  98516.40584742,\n",
       "        91749.9678769 ,  85967.8194393 ,  79230.68340742,  88393.58802556,\n",
       "        80679.48391526,  91294.70875838,  87370.10208715,  98184.33548203,\n",
       "        91993.88744591,  97533.91831355,  93801.19953706,  95791.15610061,\n",
       "        96667.82158183,  89936.03913621,  78466.71809911,  91127.41131807,\n",
       "        92487.62459616,  88756.64150428,  77439.62749493,  96153.86156934,\n",
       "        99690.12000889,  82732.81715672, 100353.27373075, 104286.94985403,\n",
       "       105392.3493354 ,  93291.2725226 ,  93210.79574967,  90485.54752607,\n",
       "        83093.44787133,  92696.19826148,  88660.87996316, 103780.89503379,\n",
       "       102258.80556383,  84580.93690209,  90795.55549444,  90865.73653649,\n",
       "        79556.84631171, 104099.8847109 ,  85182.31473107,  98321.03730626,\n",
       "        90656.17687708,  95393.76035413,  89445.89332399, 112273.98574271,\n",
       "        84696.94729329,  98453.44805288,  94720.79154026, 100506.71903047,\n",
       "        96987.09211514,  95625.96429216,  91798.8321619 ,  83812.39426168,\n",
       "        88477.30356756,  85471.68635212,  92158.43638035, 106317.42376673,\n",
       "        99705.81016104, 103409.07573583,  76001.949256  ,  90509.60225593,\n",
       "        99431.10726135,  94333.9858803 ,  87925.68549527,  82887.45785753,\n",
       "        88018.83250714,  97091.74906862,  99862.55244315, 100525.71021557,\n",
       "       101792.24564715,  81435.14582553,  92811.57522753,  88938.36224646,\n",
       "        90608.66483001,  90825.8743049 , 107713.03263591,  88751.01084883,\n",
       "       102922.72230397,  88282.62767968,  94979.89742941,  96992.76225785,\n",
       "        82209.59997761,  93179.84351407,  92219.09668602,  89532.41963575,\n",
       "        83782.2134784 , 105955.24913265,  85215.66695417,  89049.79530555,\n",
       "        84273.70291904, 101309.7294812 ,  97499.665045  ,  94335.74434153,\n",
       "       101170.2158724 ,  89681.42563054,  97687.74705996,  94980.88747406,\n",
       "        81468.42768363,  95677.36254128,  99311.22872649,  86203.07899078,\n",
       "        99754.99157829, 109640.15694748, 102628.22487429,  89451.09058182,\n",
       "        93629.04390844,  87328.59469334,  89291.53347938, 101295.93960448,\n",
       "       101914.97545384,  87575.25736993,  97786.45301453,  95396.18716881,\n",
       "        82573.61262324,  88983.99181295,  86748.17895345, 100116.95140706,\n",
       "        91995.61368166,  97482.84580619,  88107.31309584,  96595.90223595,\n",
       "        98164.92439873,  79457.78373763, 100574.9538967 , 100698.94599472,\n",
       "        94287.13408555,  94838.56444325,  89479.93718555,  91177.5029661 ,\n",
       "        96284.25982571,  76782.1666924 , 104964.38885057,  87527.41958109,\n",
       "        91807.28168824,  93842.25716974,  89581.85103146,  91722.03581806,\n",
       "        84346.51916794,  99216.00746889, 110090.06653029,  91014.1131567 ,\n",
       "        99290.26048783,  91823.62290739,  89764.20924935,  84570.71153622,\n",
       "        91603.39730631,  89592.71387304, 101226.00449032,  99225.59940963,\n",
       "       102442.91279408,  87254.09574651, 100981.62445166, 102696.33116221,\n",
       "        88035.65579651, 105138.09244923,  79311.23999421,  91837.39514226,\n",
       "        99323.85863882,  92013.62427098, 103980.00617604, 110627.6447474 ,\n",
       "        81580.43190399,  97108.56425687, 109193.62416093, 110988.90888715,\n",
       "       103547.81687749,  85341.0381173 ,  85757.74674008,  86557.9423705 ,\n",
       "       103281.03797971,  98846.32468055,  95063.03361716,  94433.40102333,\n",
       "        95655.61879973, 101357.78586236, 109240.68644688,  92163.70639067,\n",
       "        99316.89481864, 101497.84693285, 107841.84285918,  88225.96484348,\n",
       "        99716.03957748,  96641.977513  ,  90828.68912522,  86546.27162507,\n",
       "        85482.51831596,  85263.01954519,  87864.13359302,  98041.65988228,\n",
       "       103332.1768015 ,  91999.23184686, 101349.41209933,  86633.34227092,\n",
       "        83193.14387056, 105040.71662364, 106888.27439306,  94111.71286066,\n",
       "        75704.637006  ,  85789.81861346,  98036.34635908,  99380.5658522 ,\n",
       "        94588.09993744,  87824.16066982, 102382.83309855,  93340.84599605,\n",
       "        93518.56056739, 101380.46152711,  91576.09867261,  87648.4272026 ,\n",
       "       105765.71255282,  86664.1108425 ,  79259.53406171,  86596.15278191,\n",
       "        95107.77572948, 104359.91433026,  83158.0426351 ,  91896.2079875 ,\n",
       "        99999.25426737,  97329.40050648, 103359.76574027,  93410.42449069,\n",
       "        82924.95502993,  93276.12265397,  92418.81856866, 113059.06136742,\n",
       "       107142.39250077,  99176.98915364,  89218.85525766,  99758.92603639,\n",
       "        79594.69605305, 103721.4487634 ,  87830.39792323,  89082.57636738,\n",
       "        90796.99682342,  90425.20840321,  87251.69575901,  94776.72223593,\n",
       "        89246.57277474,  90989.30360155,  92218.23521968,  86320.04551314,\n",
       "        82108.35600835,  99743.51268987,  95434.85291511, 107698.32847784,\n",
       "        99145.46575678,  98974.3001728 ,  94724.72599836,  97205.93063359,\n",
       "        95562.63664222,  79751.58446347, 103295.88016495,  95804.37481606,\n",
       "       107894.69111422,  87005.99629989, 109652.18431241,  91621.78189345,\n",
       "       103847.87223506,  89097.75449453,  89550.34087048,  96032.53765493,\n",
       "        84163.80838111,  94413.24987382,  91008.4161868 ,  93782.45833041,\n",
       "        99573.04279491, 109637.6946961 , 107402.70297633,  94072.06112027,\n",
       "        85894.93072638,  98708.6817478 , 102986.0002665 ,  86868.62864958,\n",
       "        88444.05798552,  81805.06998282,  92569.77478982, 102770.62366841,\n",
       "       107074.85737412,  83232.82243813, 102434.47676718, 110354.03060775,\n",
       "        86795.81240067, 103781.818764  , 103638.21943403,  92557.90688095,\n",
       "        77415.0016038 , 104586.30547202,  77353.73055775])"
      ]
     },
     "execution_count": 38,
     "metadata": {},
     "output_type": "execute_result"
    }
   ],
   "source": [
    "prediction"
   ]
  },
  {
   "cell_type": "code",
   "execution_count": 39,
   "metadata": {},
   "outputs": [
    {
     "data": {
      "text/plain": [
       "97624.821666367"
      ]
     },
     "execution_count": 39,
     "metadata": {},
     "output_type": "execute_result"
    }
   ],
   "source": [
    "prediction[0]"
   ]
  },
  {
   "cell_type": "code",
   "execution_count": 42,
   "metadata": {},
   "outputs": [
    {
     "data": {
      "text/plain": [
       "689     93571\n",
       "518     87150\n",
       "940    105760\n",
       "96      93330\n",
       "578    102614\n",
       "        ...  \n",
       "79     104592\n",
       "148     88503\n",
       "302     73297\n",
       "464    101318\n",
       "712     77927\n",
       "Name: salary_per_year, Length: 335, dtype: int64"
      ]
     },
     "execution_count": 42,
     "metadata": {},
     "output_type": "execute_result"
    }
   ],
   "source": [
    "y_test"
   ]
  },
  {
   "cell_type": "code",
   "execution_count": 48,
   "metadata": {},
   "outputs": [],
   "source": [
    "np_y_test = np.array(y_test)"
   ]
  },
  {
   "cell_type": "code",
   "execution_count": 49,
   "metadata": {},
   "outputs": [
    {
     "data": {
      "text/plain": [
       "93571"
      ]
     },
     "execution_count": 49,
     "metadata": {},
     "output_type": "execute_result"
    }
   ],
   "source": [
    "np_y_test[0]"
   ]
  },
  {
   "cell_type": "code",
   "execution_count": 50,
   "metadata": {},
   "outputs": [],
   "source": [
    "from sklearn.metrics import mean_absolute_error, mean_squared_error"
   ]
  },
  {
   "cell_type": "code",
   "execution_count": 51,
   "metadata": {},
   "outputs": [
    {
     "data": {
      "text/plain": [
       "2754.2851254472134"
      ]
     },
     "execution_count": 51,
     "metadata": {},
     "output_type": "execute_result"
    }
   ],
   "source": [
    "mean_absolute_error(y_test, prediction)"
   ]
  },
  {
   "cell_type": "code",
   "execution_count": 52,
   "metadata": {},
   "outputs": [
    {
     "name": "stdout",
     "output_type": "stream",
     "text": [
      "Mean Absolute error:  2754.2851254472134\n"
     ]
    }
   ],
   "source": [
    "print(\"Mean Absolute error: \", mean_absolute_error(y_test, prediction))"
   ]
  },
  {
   "cell_type": "code",
   "execution_count": 53,
   "metadata": {},
   "outputs": [
    {
     "name": "stdout",
     "output_type": "stream",
     "text": [
      "Mean Squared Error:  10641378.164973497\n"
     ]
    }
   ],
   "source": [
    "print(\"Mean Squared Error: \", mean_squared_error(y_test, prediction))"
   ]
  },
  {
   "cell_type": "code",
   "execution_count": 54,
   "metadata": {},
   "outputs": [
    {
     "name": "stdout",
     "output_type": "stream",
     "text": [
      "RMSE:  3262.112531010158\n"
     ]
    }
   ],
   "source": [
    "print(\"RMSE: \", np.sqrt(mean_squared_error(y_test, prediction)))"
   ]
  },
  {
   "cell_type": "code",
   "execution_count": 61,
   "metadata": {},
   "outputs": [
    {
     "name": "stdout",
     "output_type": "stream",
     "text": [
      "Actual    : 87982.0\n",
      "Prediction: 88043.67\n",
      "Error     : -61.67\n",
      "Error %   : -0.07%\n"
     ]
    }
   ],
   "source": [
    "index_position = 5\n",
    "np_y_test = np.array(y_test)\n",
    "actual = np_y_test[index_position]/1\n",
    "pred = round(prediction[index_position],2)\n",
    "diff = round(actual-pred,2)\n",
    "perc = round(diff/actual*100,2)\n",
    "print('Actual    : ' + str(actual))\n",
    "print('Prediction: ' + str(pred))\n",
    "print('Error     : ' + str(diff))\n",
    "print('Error %   : ' + str(perc)+'%')"
   ]
  },
  {
   "cell_type": "code",
   "execution_count": 59,
   "metadata": {},
   "outputs": [
    {
     "data": {
      "text/plain": [
       "93571"
      ]
     },
     "execution_count": 59,
     "metadata": {},
     "output_type": "execute_result"
    }
   ],
   "source": [
    "np_y_test[0]"
   ]
  },
  {
   "cell_type": "code",
   "execution_count": 60,
   "metadata": {},
   "outputs": [
    {
     "data": {
      "text/plain": [
       "3.33"
      ]
     },
     "execution_count": 60,
     "metadata": {},
     "output_type": "execute_result"
    }
   ],
   "source": [
    "round(10/3,2)"
   ]
  }
 ],
 "metadata": {
  "kernelspec": {
   "display_name": "Python 3",
   "language": "python",
   "name": "python3"
  },
  "language_info": {
   "codemirror_mode": {
    "name": "ipython",
    "version": 3
   },
   "file_extension": ".py",
   "mimetype": "text/x-python",
   "name": "python",
   "nbconvert_exporter": "python",
   "pygments_lexer": "ipython3",
   "version": "3.8.3"
  }
 },
 "nbformat": 4,
 "nbformat_minor": 4
}
